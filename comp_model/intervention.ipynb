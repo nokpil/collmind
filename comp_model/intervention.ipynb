{
 "cells": [
  {
   "cell_type": "code",
   "execution_count": null,
   "metadata": {},
   "outputs": [],
   "source": [
    "import subprocess\n",
    "import time"
   ]
  },
  {
   "cell_type": "markdown",
   "metadata": {},
   "source": [
    "## 0. Miscs\n"
   ]
  },
  {
   "cell_type": "markdown",
   "metadata": {},
   "source": [
    "### 0-1. Baselines\n"
   ]
  },
  {
   "cell_type": "code",
   "execution_count": null,
   "metadata": {},
   "outputs": [],
   "source": [
    "folder = '0_base'\n",
    "model_type = 'simple'\n",
    "\n",
    "topic_num = 250\n",
    "comm_num = 1000\n",
    "timestep = 100\n",
    "\n",
    "memory_strength_list = [0.9, 0.95, 0.99]\n",
    "filter_strength_list = [0.2, 0.5, 0.8]\n",
    "\n",
    "init_type = 'fixed'\n",
    "init_freq_std = 1.0\n",
    "\n",
    "iv_rank = 25\n",
    "\n",
    "store_events = 'F'\n",
    "store_extra = 'F'\n",
    "store_weight = 'F'\n",
    "store_corr = 'F'\n",
    "\n",
    "desc_range = range(10)"
   ]
  },
  {
   "cell_type": "code",
   "execution_count": null,
   "metadata": {},
   "outputs": [],
   "source": [
    "for desc in desc_range:\n",
    "    for filter_strength in filter_strength_list:\n",
    "        for memory_strength in memory_strength_list:\n",
    "            command = f'nohup python model.py --model_type {model_type} --topic_num {topic_num} --comm_num {comm_num} --event_num 1000 --event_topic_num 3 --filter_strength {filter_strength} --memory_strength {memory_strength} --timestep {timestep} --iv_rank {iv_rank} --init_type {init_type} --init_freq_std {init_freq_std} --folder {folder} --store_events {store_events} --store_extra {store_extra} --store_weight {store_weight} --store_corr {store_corr} --store_tmp {store_tmp} --desc {desc} > {model_type}_F{filter_strength}_{memory_strength}_base_{desc}.out &'\n",
    "            subprocess.run(command, shell=True)"
   ]
  },
  {
   "cell_type": "markdown",
   "metadata": {},
   "source": [
    "### 0-2. Grid"
   ]
  },
  {
   "cell_type": "code",
   "execution_count": null,
   "metadata": {},
   "outputs": [],
   "source": [
    "folder = '0_grid'\n",
    "model_type = 'simple'\n",
    "\n",
    "topic_num = 250\n",
    "comm_num = 1000\n",
    "timestep = 300\n",
    "\n",
    "memory_strength_list = [0.90, 0.91, 0.92, 0.93, 0.94, 0.95, 0.96, 0.97, 0.98, 0.99]\n",
    "filter_strength_list = [0.0, 0.1, 0.2, 0.3, 0.4, 0.5, 0.6, 0.7, 0.8, 0.9, 1.0]\n",
    "\n",
    "init_type = 'fixed'\n",
    "init_freq_std = 1.0\n",
    "\n",
    "store_events = 'F'\n",
    "store_extra = 'F'\n",
    "store_weight = 'F'\n",
    "store_corr = 'F'"
   ]
  },
  {
   "cell_type": "code",
   "execution_count": null,
   "metadata": {},
   "outputs": [],
   "source": [
    "for filter_strength in filter_strength_list:\n",
    "    for memory_strength in memory_strength_list:\n",
    "        command = f'nohup python model.py --model_type {model_type} --topic_num {topic_num} --comm_num {comm_num} --event_num 1000 --event_topic_num 3 --filter_strength {filter_strength} --memory_strength {memory_strength} --timestep {timestep} --init_type {init_type} --init_freq_std {init_freq_std} --folder {folder} --store_events {store_events} --store_extra {store_extra} --store_weight {store_weight} --store_corr {store_corr}  > {model_type}_F{filter_strength}_{memory_strength}_{timestep}.out &'\n",
    "        subprocess.run(command, shell=True)"
   ]
  },
  {
   "cell_type": "markdown",
   "metadata": {},
   "source": [
    "### 0-3. prediction"
   ]
  },
  {
   "cell_type": "code",
   "execution_count": null,
   "metadata": {},
   "outputs": [],
   "source": [
    "folder = '0_pred1'\n",
    "model_type = 'simple'\n",
    "iv_type = '01'\n",
    "\n",
    "topic_num = 250\n",
    "comm_num = 1000\n",
    "event_num = 10000\n",
    "timestep = 13\n",
    "\n",
    "iv_t1 = 6\n",
    "iv_s1 = 32\n",
    "iv_t2  = 7\n",
    "iv_s2 = 2.0\n",
    "iv_rank = 16\n",
    "\n",
    "init_type = 'fixed'\n",
    "init_freq_std = 0.0\n",
    "\n",
    "memory_filter_list = [(0.9, 0.1), (0.9, 0.3), (0.9, 0.5), (0.9, 0.8), (0.9, 0.9), (0.9, 0.95), (0.9, 0.99)]\n",
    "\n",
    "store_events = 'T'\n",
    "store_extra = 'F'\n",
    "store_weight = 'F'\n",
    "store_corr = 'F'\n",
    "\n",
    "desc_range = range(10)"
   ]
  },
  {
   "cell_type": "code",
   "execution_count": null,
   "metadata": {},
   "outputs": [],
   "source": [
    "#time.sleep(3600)\n",
    "\n",
    "for desc in desc_range:\n",
    "    for memory_strength, filter_strength in memory_filter_list:\n",
    "        command = f'nohup python model.py --model_type {model_type} --topic_num {topic_num} --comm_num {comm_num} --event_num {event_num} --event_topic_num 3 --filter_strength {filter_strength} --memory_strength {memory_strength} --timestep {timestep} --iv_type {iv_type} --iv_t1 {iv_t1} --iv_s1 {iv_s1} --iv_t2 {iv_t2} --iv_s2 {iv_s2} --iv_rank {iv_rank} --init_type {init_type} --init_freq_std {init_freq_std} --folder {folder} --store_events {store_events} --store_extra {store_extra} --store_weight {store_weight} --store_corr {store_corr} --desc {desc} > model_pred1_{memory_strength}_{filter_strength}.out &'\n",
    "        subprocess.run(command, shell=True)\n",
    "        print(memory_strength, filter_strength)\n"
   ]
  },
  {
   "cell_type": "code",
   "execution_count": null,
   "metadata": {},
   "outputs": [],
   "source": [
    "folder = '0_pred2'\n",
    "model_type = 'simple'\n",
    "iv_type = '02'\n",
    "\n",
    "topic_num = 250\n",
    "comm_num = 1000\n",
    "event_num = 10000\n",
    "timestep = 13\n",
    "\n",
    "iv_t1 = 6\n",
    "iv_s1 = 32\n",
    "iv_t2  = 7\n",
    "iv_s2 = 2.0\n",
    "iv_rank = 16\n",
    "\n",
    "init_type = 'fixed'\n",
    "init_freq_std = 0.0\n",
    "\n",
    "memory_filter_list =  [(0.9, 0.1), (0.9, 0.3), (0.9, 0.5), (0.9, 0.8), (0.9, 0.9), (0.9, 0.95), (0.9, 0.99)]\n",
    "\n",
    "store_events = 'T'\n",
    "store_extra = 'F'\n",
    "store_weight = 'F'\n",
    "store_corr = 'F'\n",
    "\n",
    "desc_range = range(10)"
   ]
  },
  {
   "cell_type": "code",
   "execution_count": null,
   "metadata": {},
   "outputs": [],
   "source": [
    "#time.sleep(3600)\n",
    "\n",
    "for desc in desc_range:\n",
    "    for memory_strength, filter_strength in memory_filter_list:\n",
    "        command = f'nohup python model.py --model_type {model_type} --topic_num {topic_num} --comm_num {comm_num} --event_num {event_num} --event_topic_num 3 --filter_strength {filter_strength} --memory_strength {memory_strength} --timestep {timestep} --iv_type {iv_type} --iv_t1 {iv_t1} --iv_s1 {iv_s1} --iv_t2 {iv_t2} --iv_s2 {iv_s2} --iv_rank {iv_rank} --init_type {init_type} --init_freq_std {init_freq_std} --folder {folder} --store_events {store_events} --store_extra {store_extra} --store_weight {store_weight} --store_corr {store_corr} --desc {desc} > model_pred2_{memory_strength}_{filter_strength}.out &'\n",
    "        subprocess.run(command, shell=True)\n",
    "        print(memory_strength, filter_strength)\n"
   ]
  },
  {
   "cell_type": "markdown",
   "metadata": {},
   "source": [
    "### 0-4. TSNE"
   ]
  },
  {
   "cell_type": "code",
   "execution_count": 4,
   "metadata": {},
   "outputs": [],
   "source": [
    "folder = '0_tsne'\n",
    "model_type = 'simple'\n",
    "\n",
    "topic_num = 250\n",
    "comm_num = 100\n",
    "timestep = 300\n",
    "\n",
    "memory_strength_list = [0.9, 0.95, 0.99]\n",
    "filter_strength_list = [0.1, 0.5, 0.9]\n",
    "\n",
    "\n",
    "init_type = 'fixed'\n",
    "init_freq_std = 1.0\n",
    "\n",
    "store_events = 'F'\n",
    "store_extra = 'F'\n",
    "store_weight = 'F'\n",
    "store_corr = 'F'"
   ]
  },
  {
   "cell_type": "code",
   "execution_count": 8,
   "metadata": {},
   "outputs": [],
   "source": [
    "for filter_strength in filter_strength_list:\n",
    "    for memory_strength in memory_strength_list:\n",
    "        command = f'nohup python model.py --model_type {model_type} --topic_num {topic_num} --comm_num {comm_num} --event_num 1000 --event_topic_num 3 --filter_strength {filter_strength} --memory_strength {memory_strength} --timestep {timestep} --init_type {init_type} --init_freq_std {init_freq_std} --folder {folder} --store_events {store_events} --store_extra {store_extra} --store_weight {store_weight} --store_corr {store_corr}  > {model_type}_F{filter_strength}_{memory_strength}_{timestep}.out &'\n",
    "        subprocess.run(command, shell=True)"
   ]
  },
  {
   "cell_type": "code",
   "execution_count": 34,
   "metadata": {},
   "outputs": [],
   "source": [
    "# Hypersensitive filter\n",
    "\n",
    "folder = '0_tsne'\n",
    "model_type = 'simple'\n",
    "\n",
    "topic_num = 250\n",
    "comm_num = 1000\n",
    "timestep = 300\n",
    "\n",
    "memory_strength_list = [0.9]\n",
    "#filter_strength_list = [1.2, 1.5]\n",
    "filter_strength_list = [0.2, 0.5, 0.8, 1.2, 1.5, 2.0, 3.0]\n",
    "\n",
    "init_type = 'fixed'\n",
    "init_freq_std = 0.2\n",
    "\n",
    "store_events = 'F'\n",
    "store_extra = 'F'\n",
    "store_weight = 'F'\n",
    "store_corr = 'F'\n",
    "\n",
    "store_tmp = 'T'"
   ]
  },
  {
   "cell_type": "code",
   "execution_count": 35,
   "metadata": {},
   "outputs": [],
   "source": [
    "for filter_strength in filter_strength_list:\n",
    "    for memory_strength in memory_strength_list:\n",
    "        command = f'nohup python model.py --model_type {model_type} --topic_num {topic_num} --comm_num {comm_num} --event_num 1000 --event_topic_num 3 --filter_strength {filter_strength} --memory_strength {memory_strength} --timestep {timestep} --init_type {init_type} --init_freq_std {init_freq_std} --folder {folder} --store_events {store_events} --store_extra {store_extra} --store_weight {store_weight} --store_corr {store_corr} --store_tmp {store_tmp}  > {model_type}_F{filter_strength}_{memory_strength}_{timestep}.out &'\n",
    "        subprocess.run(command, shell=True)"
   ]
  },
  {
   "cell_type": "markdown",
   "metadata": {},
   "source": [
    "## 1. Alignment"
   ]
  },
  {
   "cell_type": "code",
   "execution_count": 30,
   "metadata": {},
   "outputs": [],
   "source": [
    "folder = '1_align'\n",
    "model_type = 'simple'\n",
    "\n",
    "topic_num = 250\n",
    "comm_num = 1000\n",
    "timestep = 100\n",
    "\n",
    "filter_strength = 0.2\n",
    "\n",
    "iv_t1_list = [20]\n",
    "iv_s1 = 0.8\n",
    "iv_s2_list = [0.2]\n",
    "iv_t2_list = [60]\n",
    "\n",
    "init_type = 'perturb'\n",
    "init_freq_std = 0.2\n",
    "memory_strength_list = [0.9, 0.95, 0.99]\n",
    "\n",
    "store_events = 'F'\n",
    "store_extra = 'F'\n",
    "store_weight = 'F'\n",
    "store_corr = 'F'"
   ]
  },
  {
   "cell_type": "code",
   "execution_count": null,
   "metadata": {},
   "outputs": [],
   "source": [
    "for desc in range(10):\n",
    "    for memory_strength in memory_strength_list:\n",
    "        for iv_t1 in iv_t1_list:\n",
    "            for iv_t2 in iv_t2_list:\n",
    "                for iv_s2 in iv_s2_list:\n",
    "                    command = f'nohup python model.py --model_type {model_type} --topic_num {topic_num} --comm_num {comm_num} --event_num 1000 --event_topic_num 3 --filter_strength {filter_strength} --memory_strength {memory_strength} --timestep {timestep} --iv_type 11 --iv_t1 {iv_t1} --iv_s1 {iv_s1} --iv_t2 {iv_t2} --iv_s2 {iv_s2} --init_type {init_type} --init_freq_std {init_freq_std} --folder {folder} --store_events {store_events} --store_extra {store_extra} --store_weight {store_weight} --store_corr {store_corr} --desc {desc} > model_iv11_{model_type}_{filter_strength}_{memory_strength}_{iv_t1}_{iv_s1}_{iv_t2}_{iv_s2}_{desc}.out &'\n",
    "                    subprocess.run(command, shell=True)\n",
    "                    print(memory_strength, iv_t1, iv_t2, iv_s2, desc)"
   ]
  },
  {
   "cell_type": "markdown",
   "metadata": {},
   "source": [
    "## 2. Amplification"
   ]
  },
  {
   "cell_type": "code",
   "execution_count": null,
   "metadata": {},
   "outputs": [],
   "source": [
    "folder = '2_amp'\n",
    "model_type = 'simple'\n",
    "\n",
    "topic_num = 250\n",
    "comm_num = 1000\n",
    "timestep = 500\n",
    "\n",
    "iv_type = '21'\n",
    "iv_t1 = 100\n",
    "iv_s1 = 25\n",
    "iv_t2 = 300\n",
    "iv_s2 = 1\n",
    "iv_rank = 25\n",
    "\n",
    "init_type = 'fixed'\n",
    "init_freq_std = 0.0\n",
    "\n",
    "memory_strength_list = [0.9, 0.95]\n",
    "filter_strength_list = [0.2, 0.8]\n",
    "\n",
    "store_events = 'T'\n",
    "store_extra = 'F'\n",
    "store_weight = 'T'\n",
    "store_corr = 'F'\n",
    "\n",
    "desc_range = range(10)"
   ]
  },
  {
   "cell_type": "code",
   "execution_count": null,
   "metadata": {},
   "outputs": [],
   "source": [
    "for desc in desc_range:\n",
    "    for memory_strength in memory_strength_list:\n",
    "        for filter_strength in filter_strength_list:\n",
    "            command = f'nohup python model.py --model_type {model_type} --topic_num {topic_num} --comm_num {comm_num} --event_num 1000 --event_topic_num 3 --filter_strength {filter_strength} --memory_strength {memory_strength} --timestep {timestep} --iv_type {iv_type} --iv_t1 {iv_t1} --iv_s1 {iv_s1} --iv_t2 {iv_t2} --iv_s2 {iv_s2} --iv_rank {iv_rank} --init_type {init_type} --init_freq_std {init_freq_std} --folder {folder} --store_events {store_events} --store_extra {store_extra} --store_weight {store_weight} --store_corr {store_corr} --desc {desc} > model_iv{iv_type}_{model_type}_{filter_strength}_{memory_strength}_{iv_rank}_{iv_t1}_{iv_s1}_{iv_t2}_{iv_s2}_{desc}.out &'\n",
    "            subprocess.run(command, shell=True)\n",
    "            print(desc, memory_strength, filter_strength, iv_t1, iv_s1, iv_t2, iv_s2, iv_rank)\n"
   ]
  },
  {
   "cell_type": "code",
   "execution_count": 6,
   "metadata": {},
   "outputs": [],
   "source": [
    "folder = '2_amp'\n",
    "model_type = 'simple'\n",
    "\n",
    "topic_num = 250\n",
    "comm_num = 1000\n",
    "timestep = 500\n",
    "\n",
    "iv_type = '21'\n",
    "iv_t1 = 100\n",
    "iv_s1 = 25\n",
    "iv_t2 = 300\n",
    "iv_s2 = 1\n",
    "iv_rank = 25\n",
    "\n",
    "init_type = 'fixed'\n",
    "init_freq_std = 0.0\n",
    "\n",
    "memory_strength_list = [0.9, 0.95]\n",
    "filter_strength_list = [0.2, 0.8]\n",
    "\n",
    "store_events = 'T'\n",
    "store_extra = 'F'\n",
    "store_weight = 'F'\n",
    "store_corr = 'F'\n",
    "\n",
    "store_tmp = 'T'\n",
    "\n",
    "desc_range = range(20, 30)"
   ]
  },
  {
   "cell_type": "code",
   "execution_count": null,
   "metadata": {},
   "outputs": [],
   "source": [
    "for desc in desc_range:\n",
    "    for memory_strength in memory_strength_list:\n",
    "        for filter_strength in filter_strength_list:\n",
    "            command = f'nohup python model.py --model_type {model_type} --topic_num {topic_num} --comm_num {comm_num} --event_num 1000 --event_topic_num 3 --filter_strength {filter_strength} --memory_strength {memory_strength} --timestep {timestep} --iv_type {iv_type} --iv_t1 {iv_t1} --iv_s1 {iv_s1} --iv_t2 {iv_t2} --iv_s2 {iv_s2} --iv_rank {iv_rank} --init_type {init_type} --init_freq_std {init_freq_std} --folder {folder} --store_events {store_events} --store_extra {store_extra} --store_weight {store_weight} --store_corr {store_corr} --store_tmp {store_tmp} --desc {desc} > model_iv{iv_type}_{model_type}_{filter_strength}_{memory_strength}_{iv_rank}_{iv_t1}_{iv_s1}_{iv_t2}_{iv_s2}_{desc}.out &'\n",
    "            subprocess.run(command, shell=True)\n",
    "            print(desc, memory_strength, filter_strength, iv_t1, iv_s1, iv_t2, iv_s2, iv_rank)"
   ]
  },
  {
   "cell_type": "markdown",
   "metadata": {},
   "source": [
    "## 3. Reframing"
   ]
  },
  {
   "cell_type": "code",
   "execution_count": null,
   "metadata": {},
   "outputs": [],
   "source": [
    "folder = '3_ref'\n",
    "model_type = 'simple'\n",
    "\n",
    "topic_num = 250\n",
    "comm_num = 1000\n",
    "timestep = 500\n",
    "\n",
    "iv_type = '31'\n",
    "iv_t1 = 100\n",
    "iv_s1 = 0.04\n",
    "iv_t2 = 300\n",
    "iv_s2 = 0.00\n",
    "iv_rank = 25\n",
    "iv_tier = 2\n",
    "\n",
    "init_type = 'fixed'\n",
    "init_freq_std = 0.0\n",
    "\n",
    "memory_strength_list = [0.9, 0.95]\n",
    "filter_strength_list = [0.2, 0.8]\n",
    "\n",
    "store_events = 'T'\n",
    "store_extra = 'F'\n",
    "store_weight = 'T'\n",
    "store_corr = 'F'\n",
    "\n",
    "desc_range = range(10)"
   ]
  },
  {
   "cell_type": "code",
   "execution_count": null,
   "metadata": {},
   "outputs": [],
   "source": [
    "for desc in desc_range:\n",
    "    for memory_strength in memory_strength_list:\n",
    "        for filter_strength in filter_strength_list:\n",
    "            command = f'nohup python model.py --model_type {model_type} --topic_num {topic_num} --comm_num {comm_num} --event_num 1000 --event_topic_num 3 --filter_strength {filter_strength} --memory_strength {memory_strength} --timestep {timestep} --iv_type {iv_type} --iv_t1 {iv_t1} --iv_s1 {iv_s1} --iv_t2 {iv_t2} --iv_s2 {iv_s2} --iv_rank {iv_rank} --iv_tier {iv_tier} --init_type {init_type} --init_freq_std {init_freq_std} --folder {folder} --store_events {store_events} --store_extra {store_extra} --store_weight {store_weight} --store_corr {store_corr} --desc {desc} > model_iv{iv_type}_{model_type}_{filter_strength}_{memory_strength}_{iv_rank}_{iv_t1}_{iv_s1}_{iv_t2}_{iv_s2}_{desc}.out &'\n",
    "            subprocess.run(command, shell=True)\n",
    "            print(desc, memory_strength, filter_strength, iv_t1, iv_s1, iv_t2, iv_s2, iv_rank)\n"
   ]
  },
  {
   "cell_type": "markdown",
   "metadata": {},
   "source": [
    "## 4. Membership turnover"
   ]
  },
  {
   "cell_type": "code",
   "execution_count": 25,
   "metadata": {},
   "outputs": [],
   "source": [
    "folder = '4_member'\n",
    "model_type = 'simple'\n",
    "\n",
    "topic_num = 250\n",
    "comm_num = 1000\n",
    "timestep = 100\n",
    "\n",
    "memory_strength = 0.99\n",
    "\n",
    "iv_t1_list = [20]\n",
    "iv_s1 = 0.95\n",
    "iv_s2_list = [0.99]\n",
    "iv_t2_list = [60]\n",
    "\n",
    "init_type = 'perturb'\n",
    "init_freq_std = 0.2\n",
    "filter_strength_list = [0.2, 0.5, 0.8]\n",
    "\n",
    "store_events = 'F'\n",
    "store_extra = 'F'\n",
    "store_weight = 'F'\n",
    "store_corr = 'F'"
   ]
  },
  {
   "cell_type": "code",
   "execution_count": null,
   "metadata": {},
   "outputs": [],
   "source": [
    "for desc in range(10):\n",
    "    for filter_strength in filter_strength_list:\n",
    "        for iv_t1 in iv_t1_list:\n",
    "            for iv_t2 in iv_t2_list:\n",
    "                for iv_s2 in iv_s2_list:\n",
    "                    command = f'nohup python model.py --model_type {model_type} --topic_num {topic_num} --comm_num {comm_num} --event_num 1000 --event_topic_num 3 --filter_strength {filter_strength} --memory_strength {memory_strength} --timestep {timestep} --iv_type 41 --iv_t1 {iv_t1} --iv_s1 {iv_s1} --iv_t2 {iv_t2} --iv_s2 {iv_s2} --init_type {init_type} --init_freq_std {init_freq_std} --folder {folder} --store_events {store_events} --store_extra {store_extra} --store_weight {store_weight} --store_corr {store_corr} --desc {desc} > model_iv41_{model_type}_{filter_strength}_{memory_strength}_{iv_t1}_{iv_s1}_{iv_t2}_{iv_s2}_{desc}.out &'\n",
    "                    subprocess.run(command, shell=True)\n",
    "                    print(filter_strength, iv_t1, iv_t2, iv_s2, desc)"
   ]
  },
  {
   "cell_type": "markdown",
   "metadata": {},
   "source": [
    "## 5. Trolls"
   ]
  },
  {
   "cell_type": "code",
   "execution_count": null,
   "metadata": {},
   "outputs": [],
   "source": [
    "folder = '5_trolls'\n",
    "model_type = 'simple'\n",
    "\n",
    "topic_num = 250\n",
    "comm_num = 1000\n",
    "timestep = 500\n",
    "\n",
    "iv_type = '51'\n",
    "iv_t1 = 100\n",
    "iv_s1 = 1.5\n",
    "iv_t2_list = [150]\n",
    "iv_s2_list = [1.0]\n",
    "iv_rank_list = [25]\n",
    "\n",
    "init_type = 'fixed'\n",
    "init_freq_std = 0.0\n",
    "\n",
    "memory_strength_list = [0.9, 0.95]\n",
    "filter_strength_list = [0.2, 0.8]\n",
    "\n",
    "store_events = 'T'\n",
    "store_extra = 'F'\n",
    "store_weight = 'F'\n",
    "store_corr = 'F'\n",
    "\n",
    "store_tmp = 'T'\n",
    "\n",
    "desc_range = range(10)\n"
   ]
  },
  {
   "cell_type": "code",
   "execution_count": null,
   "metadata": {},
   "outputs": [],
   "source": [
    "for desc in desc_range:\n",
    "    for memory_strength in memory_strength_list:\n",
    "        for filter_strength in filter_strength_list:\n",
    "            for iv_rank in iv_rank_list:\n",
    "                for iv_s2 in iv_s2_list:\n",
    "                    for iv_t2 in iv_t2_list:\n",
    "                        command = f'nohup python model.py --model_type {model_type} --topic_num {topic_num} --comm_num {comm_num} --event_num 1000 --event_topic_num 3 --filter_strength {filter_strength} --memory_strength {memory_strength} --timestep {timestep} --iv_type {iv_type} --iv_t1 {iv_t1} --iv_s1 {iv_s1} --iv_t2 {iv_t2} --iv_s2 {iv_s2} --iv_rank {iv_rank} --init_type {init_type} --init_freq_std {init_freq_std} --folder {folder} --store_events {store_events} --store_extra {store_extra} --store_weight {store_weight} --store_corr {store_corr} --store_tmp {store_tmp} --desc {desc} > model_iv{iv_type}_{model_type}_{memory_strength}_{filter_strength}_{iv_rank}_{iv_t1}_{iv_s1}_{iv_t2}_{iv_s2}_{desc}.out &'\n",
    "                        subprocess.run(command, shell=True)\n",
    "                        print(memory_strength, filter_strength, iv_t1, iv_s1, iv_t2, iv_s2, iv_rank, desc)\n"
   ]
  },
  {
   "cell_type": "markdown",
   "metadata": {},
   "source": [
    "## 6. Counterspeech"
   ]
  },
  {
   "cell_type": "code",
   "execution_count": 5,
   "metadata": {},
   "outputs": [],
   "source": [
    "folder = '6_counter'\n",
    "model_type = 'simple'\n",
    "\n",
    "topic_num = 250\n",
    "comm_num = 1000\n",
    "timestep = 500\n",
    "\n",
    "iv_type = '61'\n",
    "iv_t1 = 100\n",
    "iv_s1 = 1.5\n",
    "iv_t2_list = [150]\n",
    "iv_s2_list = [3.0]\n",
    "iv_rank_list = [25]\n",
    "\n",
    "init_type = 'fixed'\n",
    "init_freq_std = 0.0\n",
    "\n",
    "memory_strength_list = [0.9, 0.95]\n",
    "filter_strength_list = [0.2, 0.8]\n",
    "\n",
    "store_events = 'T'\n",
    "store_extra = 'F'\n",
    "store_weight = 'F'\n",
    "store_corr = 'F'\n",
    "\n",
    "desc_range = range(10)"
   ]
  },
  {
   "cell_type": "code",
   "execution_count": null,
   "metadata": {},
   "outputs": [],
   "source": [
    "for desc in desc_range:\n",
    "    for memory_strength in memory_strength_list:\n",
    "        for filter_strength in filter_strength_list:\n",
    "            for iv_rank in iv_rank_list:\n",
    "                for iv_s2 in iv_s2_list:\n",
    "                    for iv_t2 in iv_t2_list:\n",
    "                        command = f'nohup python model.py --model_type {model_type} --topic_num {topic_num} --comm_num {comm_num} --event_num 1000 --event_topic_num 3 --filter_strength {filter_strength} --memory_strength {memory_strength} --timestep {timestep} --iv_type {iv_type} --iv_t1 {iv_t1} --iv_s1 {iv_s1} --iv_t2 {iv_t2} --iv_s2 {iv_s2} --iv_rank {iv_rank} --init_type {init_type} --init_freq_std {init_freq_std} --folder {folder} --store_events {store_events} --store_extra {store_extra} --store_weight {store_weight} --store_corr {store_corr} --desc {desc} > model_iv{iv_type}_{model_type}_{memory_strength}_{filter_strength}_{iv_rank}_{iv_t1}_{iv_s1}_{iv_t2}_{iv_s2}_{desc}.out &'\n",
    "                        subprocess.run(command, shell=True)\n",
    "                        print(memory_strength, filter_strength, iv_t1, iv_s1, iv_t2, iv_s2, iv_rank, desc)\n"
   ]
  }
 ],
 "metadata": {
  "kernelspec": {
   "display_name": "collmind",
   "language": "python",
   "name": "python3"
  },
  "language_info": {
   "codemirror_mode": {
    "name": "ipython",
    "version": 3
   },
   "file_extension": ".py",
   "mimetype": "text/x-python",
   "name": "python",
   "nbconvert_exporter": "python",
   "pygments_lexer": "ipython3",
   "version": "3.11.4"
  },
  "orig_nbformat": 4
 },
 "nbformat": 4,
 "nbformat_minor": 2
}
